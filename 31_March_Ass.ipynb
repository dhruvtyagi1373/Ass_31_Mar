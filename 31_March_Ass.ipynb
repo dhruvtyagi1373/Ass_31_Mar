{
 "cells": [
  {
   "cell_type": "markdown",
   "id": "bda9ab88-3f09-4731-9203-2ab5d8f9d20b",
   "metadata": {},
   "source": [
    "## Q1. What are the key steps involved in building an end-to-end web application, from development to deployment on the cloud?"
   ]
  },
  {
   "cell_type": "markdown",
   "id": "e16acac1-0262-4861-a9a6-2a642aa59410",
   "metadata": {},
   "source": [
    "Data Collection -> EDA(Exploratory Data Analaysis) -> Feature Engineering -> Model Selection and Training -> Model Deployment on the cloud"
   ]
  },
  {
   "cell_type": "markdown",
   "id": "54ab2c3e-6976-4068-93a8-4fa05fb52ce3",
   "metadata": {},
   "source": [
    "## Q2. Explain the difference between traditional web hosting and cloud hosting."
   ]
  },
  {
   "cell_type": "markdown",
   "id": "a7e61649-eb43-4daf-9f7f-dd1fae1b8076",
   "metadata": {},
   "source": [
    "Sol : Web hosting is a service where your files are stored on a single server at a data center, which is different from cloud hosting that utilizes a network of interconnected servers.\n",
    "The web host offers the physical hardware, software & network infrastructure to maintain your site on a server, whereas cloud hosting service providers maintain your site on interconnected servers.\n",
    "The amount of storage & IT resources depes on your web hosting requirements."
   ]
  },
  {
   "cell_type": "markdown",
   "id": "22b16715-e189-461d-aae9-ea33f2cf5cee",
   "metadata": {},
   "source": [
    "## Q3. How do you choose the right cloud provider for your application deployment, and what factors should you consider?"
   ]
  },
  {
   "cell_type": "markdown",
   "id": "6be17667-ffa9-46d8-8ae6-7892e87e3ba8",
   "metadata": {},
   "source": [
    "Factors :\n",
    "1. Services Offerings\n",
    "2. Scalability\n",
    "3. Security\n",
    "4. Reliability\n",
    "5. Customer Support\n",
    "6. Cost\n",
    "7. Flexibility"
   ]
  },
  {
   "cell_type": "markdown",
   "id": "ffc5e9d9-22e6-484b-a368-246603c71365",
   "metadata": {},
   "source": [
    "## Q4. How do you design and build a responsive user interface for your web application, and what are some best practices to follow?"
   ]
  },
  {
   "cell_type": "markdown",
   "id": "7cfbaba7-eb45-4907-94d6-aa58ca416ddc",
   "metadata": {},
   "source": [
    "Sol : It is the work of Frontend Engineer to create a responsive user interface.Responsive websites should be made which are websites that adapt to all screen sizes and resolutions, not only on desktop but also on mobile, tablet, and sometimes even TV."
   ]
  },
  {
   "cell_type": "markdown",
   "id": "47c9cc18-85dd-4cbb-a528-0dc4fb6005fe",
   "metadata": {},
   "source": [
    "## Q5. How do you integrate the machine learning model with the user interface for the Algerian Forest Fires project(which we discussed in class), and what APIs or libraries can you use for this purpose?"
   ]
  },
  {
   "cell_type": "markdown",
   "id": "2f430931-2ce5-440d-b161-9eccfbf6020d",
   "metadata": {},
   "source": [
    "Sol : We can integrate learning model with the user interface for the Algerian Fires project using code pipeline in amazon AWS.Flask,Django,TorchServe Etc."
   ]
  },
  {
   "cell_type": "code",
   "execution_count": null,
   "id": "d5896a97-88ed-49a2-9164-7b370ef35a2c",
   "metadata": {},
   "outputs": [],
   "source": []
  },
  {
   "cell_type": "code",
   "execution_count": null,
   "id": "5ea74a62-9c5f-4111-a987-1d227705bc9e",
   "metadata": {},
   "outputs": [],
   "source": []
  },
  {
   "cell_type": "code",
   "execution_count": null,
   "id": "d9f194b1-8a2a-42e3-94c1-ee4903d9ce85",
   "metadata": {},
   "outputs": [],
   "source": []
  },
  {
   "cell_type": "code",
   "execution_count": null,
   "id": "8bc23970-f691-497f-ada7-5aaee29da2cc",
   "metadata": {},
   "outputs": [],
   "source": []
  },
  {
   "cell_type": "code",
   "execution_count": null,
   "id": "f8c34921-58a0-4034-8b7f-a5305eb8a12d",
   "metadata": {},
   "outputs": [],
   "source": []
  },
  {
   "cell_type": "code",
   "execution_count": null,
   "id": "6f4f9972-cfe5-47c7-b1c8-148e9582c134",
   "metadata": {},
   "outputs": [],
   "source": []
  }
 ],
 "metadata": {
  "kernelspec": {
   "display_name": "Python 3 (ipykernel)",
   "language": "python",
   "name": "python3"
  },
  "language_info": {
   "codemirror_mode": {
    "name": "ipython",
    "version": 3
   },
   "file_extension": ".py",
   "mimetype": "text/x-python",
   "name": "python",
   "nbconvert_exporter": "python",
   "pygments_lexer": "ipython3",
   "version": "3.10.8"
  }
 },
 "nbformat": 4,
 "nbformat_minor": 5
}
